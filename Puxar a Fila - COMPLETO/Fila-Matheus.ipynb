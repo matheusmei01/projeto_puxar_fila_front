{
 "cells": [
  {
   "cell_type": "code",
   "execution_count": 5,
   "id": "1e295d13",
   "metadata": {
    "collapsed": true
   },
   "outputs": [
    {
     "name": "stdout",
     "output_type": "stream",
     "text": [
      "Defaulting to user installation because normal site-packages is not writeable\n",
      "Requirement already satisfied: selenium in c:\\users\\br0mslvr\\appdata\\roaming\\python\\python39\\site-packages (3.141.0)\n",
      "Requirement already satisfied: urllib3 in c:\\appl\\anaconda\\lib\\site-packages (from selenium) (1.26.11)\n",
      "Defaulting to user installation because normal site-packages is not writeable\n",
      "Requirement already satisfied: msedge-selenium-tools in c:\\users\\br0mslvr\\appdata\\roaming\\python\\python39\\site-packages (3.141.4)\n",
      "Requirement already satisfied: selenium==3.141 in c:\\users\\br0mslvr\\appdata\\roaming\\python\\python39\\site-packages (3.141.0)\n",
      "Requirement already satisfied: urllib3 in c:\\appl\\anaconda\\lib\\site-packages (from selenium==3.141) (1.26.11)\n"
     ]
    }
   ],
   "source": [
    "!pip install selenium \n",
    "\n",
    "\n"
   ]
  },
  {
   "cell_type": "code",
   "execution_count": 2,
   "id": "b2dacbda",
   "metadata": {},
   "outputs": [],
   "source": [
    "import pyautogui as pa\n",
    "import pyperclip as pp\n",
    "import time \n",
    "from selenium.webdriver.support.ui import WebDriverWait\n",
    "from selenium.webdriver.support import expected_conditions as EC\n",
    "from selenium.webdriver.common.keys import Keys\n",
    "from selenium.webdriver import ActionChains\n",
    "from selenium.webdriver.chrome.options import Options \n",
    "import threading\n",
    "import pymsgbox\n",
    "import pandas as pd\n",
    "import xlrd\n",
    "from typing import Counter\n",
    "import win32com.client as win32\n",
    "import openpyxl\n",
    "import unittest\n",
    "from msedge.selenium_tools import Edge, EdgeOptions\n",
    "from openpyxl import load_workbook, cell\n",
    "import csv\n",
    "from datetime import date, timedelta\n",
    "from selenium.webdriver.support import expected_conditions as EC, select\n",
    "from selenium.webdriver.support.ui import Select\n",
    "from selenium.webdriver.support.select import Select\n",
    "from selenium.webdriver.common.by import By\n",
    "from selenium.webdriver.support.ui import WebDriverWait\n",
    "from selenium.webdriver.support import expected_conditions as EC\n",
    "import random\n",
    "import re \n",
    "import getpass"
   ]
  },
  {
   "cell_type": "code",
   "execution_count": null,
   "id": "bdd82677",
   "metadata": {},
   "outputs": [],
   "source": [
    "username=getpass.getuser()\n",
    "\n",
    "\n",
    "\n",
    "\n",
    "\n",
    "\n",
    "\n"
   ]
  },
  {
   "cell_type": "code",
   "execution_count": null,
   "id": "86cd1042",
   "metadata": {},
   "outputs": [],
   "source": []
  }
 ],
 "metadata": {
  "kernelspec": {
   "display_name": "Python 3 (ipykernel)",
   "language": "python",
   "name": "python3"
  },
  "language_info": {
   "codemirror_mode": {
    "name": "ipython",
    "version": 3
   },
   "file_extension": ".py",
   "mimetype": "text/x-python",
   "name": "python",
   "nbconvert_exporter": "python",
   "pygments_lexer": "ipython3",
   "version": "3.9.13"
  }
 },
 "nbformat": 4,
 "nbformat_minor": 5
}
